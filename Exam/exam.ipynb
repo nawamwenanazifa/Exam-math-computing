{
 "cells": [
  {
   "cell_type": "markdown",
   "id": "44d5d1ea-8660-4ab6-8a8a-c27e2e31283d",
   "metadata": {},
   "source": [
    "# question 5"
   ]
  },
  {
   "cell_type": "code",
   "execution_count": 18,
   "id": "0d66bee5-e028-4714-ab2b-a889a88c18dd",
   "metadata": {},
   "outputs": [],
   "source": [
    "import numpy as np"
   ]
  },
  {
   "cell_type": "code",
   "execution_count": 19,
   "id": "68f922e1-5314-434f-8f5a-13f1578395f7",
   "metadata": {},
   "outputs": [],
   "source": [
    "import matplotlib.pyplot as plt"
   ]
  },
  {
   "cell_type": "code",
   "execution_count": 20,
   "id": "1467b3ac-59ab-4e20-ae98-e1202b6cd765",
   "metadata": {},
   "outputs": [],
   "source": [
    "import seaborn as sns"
   ]
  },
  {
   "cell_type": "code",
   "execution_count": 21,
   "id": "eab3a8b5-bae7-41dd-bf24-d77bd459bb6a",
   "metadata": {},
   "outputs": [],
   "source": [
    "from numpy import random"
   ]
  },
  {
   "cell_type": "code",
   "execution_count": 22,
   "id": "d126c37a-c533-425c-b0e3-d529be07947e",
   "metadata": {},
   "outputs": [
    {
     "name": "stdout",
     "output_type": "stream",
     "text": [
      "[[1.  0.2 0.5]\n",
      " [0.2 1.  0.8]\n",
      " [0.5 0.8 1. ]]\n"
     ]
    }
   ],
   "source": [
    "matrix=np.array([[1,0.2,0.5], [0.2,1,0.8], [0.5,0.8,1]])\n",
    "print(matrix)"
   ]
  },
  {
   "cell_type": "markdown",
   "id": "d8dc7988-fb57-4583-90b7-7ad1af85d4a2",
   "metadata": {},
   "source": []
  },
  {
   "cell_type": "markdown",
   "id": "9e2b7310-98c5-410b-bd79-c0359ed0cae6",
   "metadata": {},
   "source": [
    "# (i)"
   ]
  },
  {
   "cell_type": "code",
   "execution_count": 23,
   "id": "5a221716-42cb-4f21-908b-a13886511e30",
   "metadata": {},
   "outputs": [
    {
     "name": "stdout",
     "output_type": "stream",
     "text": [
      "[[1.  0.2 0.5]\n",
      " [0.2 1.  0.8]\n",
      " [0.5 0.8 1. ]]\n"
     ]
    }
   ],
   "source": [
    "matrix_transpose= np.transpose(matrix)\n",
    "print(matrix_transpose)"
   ]
  },
  {
   "cell_type": "markdown",
   "id": "6059b0f0-910c-44c8-8ed7-c1ff68511db0",
   "metadata": {},
   "source": [
    "# (ii)"
   ]
  },
  {
   "cell_type": "code",
   "execution_count": null,
   "id": "c22780c2-cd6a-41d6-8b06-9a7106b3ac76",
   "metadata": {},
   "outputs": [],
   "source": []
  },
  {
   "cell_type": "code",
   "execution_count": null,
   "id": "38b185d7-867e-4f3e-bc28-ff7d246c912f",
   "metadata": {},
   "outputs": [],
   "source": [
    "poisson_data=random.poisson( size=10)\n",
    "sns.kdeplot(poisson_data, color=\"green\")\n",
    "plt.xlabel(\"Number of success\")\n",
    "plt.ylabel(\"Frequency\")\n",
    "plt.title(\"Visualization of Poisson Distribution\")\n",
    "plt.show()\n",
    "x=random.poisson(lam=2,size=10)#lam is number of occurance\n",
    "print(x)"
   ]
  }
 ],
 "metadata": {
  "kernelspec": {
   "display_name": "Python 3 (ipykernel)",
   "language": "python",
   "name": "python3"
  },
  "language_info": {
   "codemirror_mode": {
    "name": "ipython",
    "version": 3
   },
   "file_extension": ".py",
   "mimetype": "text/x-python",
   "name": "python",
   "nbconvert_exporter": "python",
   "pygments_lexer": "ipython3",
   "version": "3.12.2"
  }
 },
 "nbformat": 4,
 "nbformat_minor": 5
}
